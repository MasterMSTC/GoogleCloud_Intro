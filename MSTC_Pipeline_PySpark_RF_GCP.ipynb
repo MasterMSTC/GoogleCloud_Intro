{
 "cells": [
  {
   "cell_type": "code",
   "execution_count": 1,
   "metadata": {},
   "outputs": [
    {
     "data": {
      "text/html": [
       "\n",
       "            <div>\n",
       "                <p><b>SparkSession - hive</b></p>\n",
       "                \n",
       "        <div>\n",
       "            <p><b>SparkContext</b></p>\n",
       "\n",
       "            <p><a href=\"http://cluster-c343-m.us-central1-c.c.dev-trees-225717.internal:4042\">Spark UI</a></p>\n",
       "\n",
       "            <dl>\n",
       "              <dt>Version</dt>\n",
       "                <dd><code>v2.3.2</code></dd>\n",
       "              <dt>Master</dt>\n",
       "                <dd><code>yarn</code></dd>\n",
       "              <dt>AppName</dt>\n",
       "                <dd><code>pyspark-shell</code></dd>\n",
       "            </dl>\n",
       "        </div>\n",
       "        \n",
       "            </div>\n",
       "        "
      ],
      "text/plain": [
       "<pyspark.sql.session.SparkSession at 0x7f460448dfd0>"
      ]
     },
     "execution_count": 1,
     "metadata": {},
     "output_type": "execute_result"
    }
   ],
   "source": [
    "spark"
   ]
  },
  {
   "cell_type": "code",
   "execution_count": 3,
   "metadata": {},
   "outputs": [
    {
     "name": "stdout",
     "output_type": "stream",
     "text": [
      "--2018-12-17 20:05:33--  https://github.com/kitwaicloud/kitwaicloud.github.io/raw/master/dataset/churn-bigml-80.csv\n",
      "Resolving github.com (github.com)... 192.30.253.112, 192.30.253.113\n",
      "Connecting to github.com (github.com)|192.30.253.112|:443... connected.\n",
      "HTTP request sent, awaiting response... 302 Found\n",
      "Location: https://raw.githubusercontent.com/kitwaicloud/kitwaicloud.github.io/master/dataset/churn-bigml-80.csv [following]\n",
      "--2018-12-17 20:05:33--  https://raw.githubusercontent.com/kitwaicloud/kitwaicloud.github.io/master/dataset/churn-bigml-80.csv\n",
      "Resolving raw.githubusercontent.com (raw.githubusercontent.com)... 151.101.0.133, 151.101.64.133, 151.101.128.133, ...\n",
      "Connecting to raw.githubusercontent.com (raw.githubusercontent.com)|151.101.0.133|:443... connected.\n",
      "HTTP request sent, awaiting response... 200 OK\n",
      "Length: 223998 (219K) [text/plain]\n",
      "Saving to: ‘churn-bigml-80.csv’\n",
      "\n",
      "churn-bigml-80.csv  100%[===================>] 218.75K  --.-KB/s    in 0.04s   \n",
      "\n",
      "2018-12-17 20:05:34 (5.27 MB/s) - ‘churn-bigml-80.csv’ saved [223998/223998]\n",
      "\n"
     ]
    }
   ],
   "source": [
    "! wget https://github.com/kitwaicloud/kitwaicloud.github.io/raw/master/dataset/churn-bigml-80.csv"
   ]
  },
  {
   "cell_type": "code",
   "execution_count": 22,
   "metadata": {},
   "outputs": [
    {
     "name": "stdout",
     "output_type": "stream",
     "text": [
      "--2018-12-17 20:14:00--  https://github.com/kitwaicloud/kitwaicloud.github.io/raw/master/dataset/churn-bigml-20.csv\n",
      "Resolving github.com (github.com)... 192.30.253.112, 192.30.253.113\n",
      "Connecting to github.com (github.com)|192.30.253.112|:443... connected.\n",
      "HTTP request sent, awaiting response... 302 Found\n",
      "Location: https://raw.githubusercontent.com/kitwaicloud/kitwaicloud.github.io/master/dataset/churn-bigml-20.csv [following]\n",
      "--2018-12-17 20:14:00--  https://raw.githubusercontent.com/kitwaicloud/kitwaicloud.github.io/master/dataset/churn-bigml-20.csv\n",
      "Resolving raw.githubusercontent.com (raw.githubusercontent.com)... 151.101.0.133, 151.101.64.133, 151.101.128.133, ...\n",
      "Connecting to raw.githubusercontent.com (raw.githubusercontent.com)|151.101.0.133|:443... connected.\n",
      "HTTP request sent, awaiting response... 200 OK\n",
      "Length: 56329 (55K) [text/plain]\n",
      "Saving to: ‘churn-bigml-20.csv’\n",
      "\n",
      "churn-bigml-20.csv  100%[===================>]  55.01K  --.-KB/s    in 0.02s   \n",
      "\n",
      "2018-12-17 20:14:00 (2.63 MB/s) - ‘churn-bigml-20.csv’ saved [56329/56329]\n",
      "\n"
     ]
    }
   ],
   "source": [
    "! wget https://github.com/kitwaicloud/kitwaicloud.github.io/raw/master/dataset/churn-bigml-20.csv"
   ]
  },
  {
   "cell_type": "code",
   "execution_count": 4,
   "metadata": {},
   "outputs": [
    {
     "name": "stdout",
     "output_type": "stream",
     "text": [
      "\u001b[0m\u001b[01;34mbin\u001b[0m/                              \u001b[01;32mMiniconda3-4.5.4-Linux-x86_64.sh\u001b[0m*\r\n",
      "\u001b[01;34mboot\u001b[0m/                             \u001b[01;34mmnt\u001b[0m/\r\n",
      "churn-bigml-80.csv                \u001b[01;34mopt\u001b[0m/\r\n",
      "\u001b[01;34mdataproc-initialization-actions\u001b[0m/  \u001b[01;34mproc\u001b[0m/\r\n",
      "\u001b[01;34mdev\u001b[0m/                              \u001b[01;34mroot\u001b[0m/\r\n",
      "\u001b[01;34metc\u001b[0m/                              \u001b[01;34mrun\u001b[0m/\r\n",
      "\u001b[01;34mhadoop\u001b[0m/                           \u001b[01;34msbin\u001b[0m/\r\n",
      "\u001b[01;34mhome\u001b[0m/                             \u001b[01;34msrv\u001b[0m/\r\n",
      "\u001b[01;36minitrd.img\u001b[0m@                       \u001b[01;34msys\u001b[0m/\r\n",
      "\u001b[01;36minitrd.img.old\u001b[0m@                   \u001b[30;42mtmp\u001b[0m/\r\n",
      "\u001b[01;34mlib\u001b[0m/                              \u001b[01;34musr\u001b[0m/\r\n",
      "\u001b[01;34mlib64\u001b[0m/                            \u001b[01;34mvar\u001b[0m/\r\n",
      "\u001b[01;34mlost+found\u001b[0m/                       \u001b[01;36mvmlinuz\u001b[0m@\r\n",
      "\u001b[01;34mmedia\u001b[0m/                            \u001b[01;36mvmlinuz.old\u001b[0m@\r\n",
      "\u001b[01;36mminiconda\u001b[0m@\r\n"
     ]
    }
   ],
   "source": [
    "ls"
   ]
  },
  {
   "cell_type": "code",
   "execution_count": 23,
   "metadata": {},
   "outputs": [
    {
     "name": "stdout",
     "output_type": "stream",
     "text": [
      "mkdir: `dataset': File exists\n",
      "put: `dataset/churn-bigml-80.csv': File exists\n"
     ]
    }
   ],
   "source": [
    "! hdfs dfs -mkdir dataset\n",
    "! hdfs dfs -put churn-bigml-80.csv dataset\n",
    "! hdfs dfs -put churn-bigml-20.csv dataset"
   ]
  },
  {
   "cell_type": "code",
   "execution_count": 33,
   "metadata": {},
   "outputs": [],
   "source": [
    "from pyspark.sql import SQLContext\n",
    "sqlContext = SQLContext(sc)\n",
    "\n",
    "CV_data = sqlContext.read.load('hdfs://cluster-c343-m/user/root/dataset/churn-bigml-80.csv', \n",
    "                          format='com.databricks.spark.csv', \n",
    "                          header='true', \n",
    "                          inferSchema='true').cache()\n",
    "\n",
    "from pyspark.sql.types import DoubleType, StringType\n",
    "from pyspark.sql.functions import UserDefinedFunction\n",
    "\n",
    "toStr = UserDefinedFunction(lambda k: k, StringType())\n",
    "CV_data = CV_data.withColumn('Churn', toStr(CV_data['Churn']))"
   ]
  },
  {
   "cell_type": "code",
   "execution_count": 29,
   "metadata": {},
   "outputs": [],
   "source": [
    "predictors=('Number vmail messages',\n",
    " 'Total day minutes',\n",
    " 'Total day calls',\n",
    " 'Total eve minutes',\n",
    " 'Total eve calls',\n",
    " 'Total night minutes',\n",
    " 'Total night calls',\n",
    " 'Total intl minutes',\n",
    " 'Total intl calls',\n",
    " 'Customer service calls',\n",
    " 'IntlPlan',\n",
    " 'VmailPlan')"
   ]
  },
  {
   "cell_type": "code",
   "execution_count": 32,
   "metadata": {},
   "outputs": [
    {
     "name": "stdout",
     "output_type": "stream",
     "text": [
      "+---------------------+-----------------+---------------+\n",
      "|Number vmail messages|Total day minutes|Total day calls|\n",
      "+---------------------+-----------------+---------------+\n",
      "|                   25|            265.1|            110|\n",
      "|                   26|            161.6|            123|\n",
      "|                    0|            243.4|            114|\n",
      "+---------------------+-----------------+---------------+\n",
      "only showing top 3 rows\n",
      "\n"
     ]
    }
   ],
   "source": [
    "lispred=['Number vmail messages',\n",
    " 'Total day minutes',\n",
    " 'Total day calls']\n",
    "CV_data.select(lispred).show(3)\n"
   ]
  },
  {
   "cell_type": "code",
   "execution_count": 34,
   "metadata": {},
   "outputs": [],
   "source": [
    "from pyspark.ml.feature import StringIndexer\n",
    "from pyspark.ml.feature import VectorAssembler\n",
    "from pyspark.ml.classification import DecisionTreeClassifier\n",
    "\n",
    "from pyspark.ml.classification import RandomForestClassifier\n",
    "\n",
    "# Index labels, adding metadata to the label column\n",
    "stringindexer = StringIndexer(inputCol='Churn',\n",
    "                             outputCol='indexedLabel')\n",
    "\n",
    "stringindexerIntlPlan = StringIndexer(inputCol='International plan',\n",
    "                             outputCol='IntlPlan')\n",
    "\n",
    "stringindexerVmailPlan = StringIndexer(inputCol='Voice mail plan',\n",
    "                             outputCol='VmailPlan')\n",
    "\n",
    "assembler=VectorAssembler(inputCols=predictors,outputCol='features')\n",
    "\n",
    "# Train a RandomForest model.\n",
    "rf_algorithm = RandomForestClassifier(\\\n",
    "                                      labelCol='indexedLabel', featuresCol='features')\n",
    "\n",
    "# Train a DecisionTree model\n",
    "#dTree_algorithm = DecisionTreeClassifier(maxDepth=2,\n",
    "#                                        labelCol='indexedLabel', featuresCol='features')\n"
   ]
  },
  {
   "cell_type": "code",
   "execution_count": 35,
   "metadata": {},
   "outputs": [],
   "source": [
    "from pyspark.ml import Pipeline\n",
    "\n",
    "pipeline = Pipeline(stages=[stringindexer,\\\n",
    "                            stringindexerIntlPlan,\\\n",
    "                            stringindexerVmailPlan,\\\n",
    "                            assembler, rf_algorithm])\n",
    "\n",
    "#                            assembler, dTree_algorithm])"
   ]
  },
  {
   "cell_type": "code",
   "execution_count": 36,
   "metadata": {},
   "outputs": [],
   "source": [
    "from pyspark.ml.evaluation import BinaryClassificationEvaluator\n",
    "from pyspark.ml.tuning import CrossValidator, ParamGridBuilder\n",
    "\n",
    "evaluator=BinaryClassificationEvaluator(labelCol='indexedLabel',\\\n",
    "                                        rawPredictionCol='rawPrediction',\\\n",
    "                                       metricName='areaUnderROC')\n",
    "\n",
    "\n",
    "# Search through decision tree's maxDepth parameter for best model\n",
    "#paramGrid = ParamGridBuilder().addGrid(dTree_algorithm.maxDepth, [2,3,4,5,6,7]).build()\n",
    "paramGrid = ParamGridBuilder().addGrid(rf_algorithm.numTrees, [100,200,400,800])\\\n",
    "                        .addGrid(rf_algorithm.maxDepth, [2,3,4,5,6,7])\\\n",
    "                        .build()\n",
    "\n",
    "# Set up 3-fold cross validation\n",
    "crossval = CrossValidator(estimator=pipeline,\n",
    "                          estimatorParamMaps=paramGrid,\n",
    "                          evaluator=evaluator,\n",
    "                          numFolds=3)"
   ]
  },
  {
   "cell_type": "code",
   "execution_count": 37,
   "metadata": {},
   "outputs": [
    {
     "name": "stdout",
     "output_type": "stream",
     "text": [
      "Task completed in 409.615 seconds\n"
     ]
    }
   ],
   "source": [
    "from time import time\n",
    "\n",
    "t0 = time()\n",
    "\n",
    "CrossvalModel=crossval.fit(CV_data)\n",
    "\n",
    "tt = time() - t0\n",
    "print(\"Task completed in {} seconds\".format(round(tt,3)))\n"
   ]
  },
  {
   "cell_type": "markdown",
   "metadata": {},
   "source": [
    "### <font color=red>Evaluation on TEST data"
   ]
  },
  {
   "cell_type": "code",
   "execution_count": 39,
   "metadata": {},
   "outputs": [],
   "source": [
    "\n",
    "Test_data = sqlContext.read.load('hdfs://cluster-c343-m/user/root/dataset/churn-bigml-20.csv', \n",
    "                          format='com.databricks.spark.csv', \n",
    "                          header='true', \n",
    "                          inferSchema='true').cache()\n",
    "\n",
    "\n",
    "toStr = UserDefinedFunction(lambda k: k, StringType())\n",
    "Test_data = Test_data.withColumn('Churn', toStr(Test_data['Churn']))"
   ]
  },
  {
   "cell_type": "code",
   "execution_count": 40,
   "metadata": {},
   "outputs": [
    {
     "name": "stdout",
     "output_type": "stream",
     "text": [
      "0.9301987486197972\n"
     ]
    }
   ],
   "source": [
    "# make predictions and evaluate result\n",
    "predictions_Test = CrossvalModel.transform(Test_data)\n",
    "accuracy_Test=evaluator.evaluate(predictions_Test)\n",
    "\n",
    "print(accuracy_Test)"
   ]
  },
  {
   "cell_type": "code",
   "execution_count": 41,
   "metadata": {},
   "outputs": [
    {
     "name": "stdout",
     "output_type": "stream",
     "text": [
      "+----------------+---+---+\n",
      "|Churn_prediction|0.0|1.0|\n",
      "+----------------+---+---+\n",
      "|           false|570|  2|\n",
      "|            true| 33| 62|\n",
      "+----------------+---+---+\n",
      "\n"
     ]
    }
   ],
   "source": [
    "# Confussion Matrix\n",
    "predictions_Test.crosstab('Churn','prediction').show()"
   ]
  },
  {
   "cell_type": "code",
   "execution_count": 11,
   "metadata": {},
   "outputs": [],
   "source": [
    "# make predictions and evaluate result\n",
    "#pipelineModel=pipeline.fit(CV_data)\n",
    "#predictions_Test = pipelineModel.transform(Test_data)\n",
    "#accuracy_Test=evaluator.evaluate(predictions_Test)\n",
    "\n",
    "#print(accuracy_Test)"
   ]
  },
  {
   "cell_type": "markdown",
   "metadata": {},
   "source": [
    "### <font color=red>Evaluation on <font color=green> TRAIN data"
   ]
  },
  {
   "cell_type": "code",
   "execution_count": 42,
   "metadata": {},
   "outputs": [
    {
     "name": "stdout",
     "output_type": "stream",
     "text": [
      "0.9734755573255458\n"
     ]
    }
   ],
   "source": [
    "# make predictions and evaluate result\n",
    "predictions_Train = CrossvalModel.transform(CV_data)\n",
    "\n",
    "accuracy_Train=evaluator.evaluate(predictions_Train)\n",
    "\n",
    "print(accuracy_Train)"
   ]
  },
  {
   "cell_type": "code",
   "execution_count": 43,
   "metadata": {},
   "outputs": [
    {
     "name": "stdout",
     "output_type": "stream",
     "text": [
      "+----------------+----+---+\n",
      "|Churn_prediction| 0.0|1.0|\n",
      "+----------------+----+---+\n",
      "|           false|2278|  0|\n",
      "|            true|  87|301|\n",
      "+----------------+----+---+\n",
      "\n"
     ]
    }
   ],
   "source": [
    "# Confussion Matrix\n",
    "predictions_Train.crosstab('Churn','prediction').show()"
   ]
  },
  {
   "cell_type": "code",
   "execution_count": 15,
   "metadata": {},
   "outputs": [],
   "source": [
    "#pipelineModel=pipeline.fit(CV_data)\n",
    "#predictions_Train = pipelineModel.transform(CV_data)\n",
    "#accuracy_Train=evaluator.evaluate(predictions_Train)\n",
    "\n",
    "#print(accuracy_Train)"
   ]
  },
  {
   "cell_type": "code",
   "execution_count": 16,
   "metadata": {
    "collapsed": true
   },
   "outputs": [],
   "source": []
  },
  {
   "cell_type": "code",
   "execution_count": 17,
   "metadata": {
    "collapsed": true
   },
   "outputs": [],
   "source": []
  }
 ],
 "metadata": {
  "kernelspec": {
   "display_name": "PySpark",
   "language": "python",
   "name": "pyspark"
  },
  "language_info": {
   "codemirror_mode": {
    "name": "ipython",
    "version": 3
   },
   "file_extension": ".py",
   "mimetype": "text/x-python",
   "name": "python",
   "nbconvert_exporter": "python",
   "pygments_lexer": "ipython3",
   "version": "3.6.5"
  },
  "name": "MSTC_Pipeline_PySpark_RF",
  "notebookId": 1131704729649200,
  "widgets": {
   "state": {},
   "version": "1.1.2"
  }
 },
 "nbformat": 4,
 "nbformat_minor": 1
}